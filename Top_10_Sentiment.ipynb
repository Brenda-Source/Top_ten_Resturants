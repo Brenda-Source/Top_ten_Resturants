{
 "cells": [
  {
   "cell_type": "code",
   "execution_count": 3,
   "metadata": {},
   "outputs": [
    {
     "name": "stderr",
     "output_type": "stream",
     "text": [
      "[nltk_data] Downloading package vader_lexicon to C:\\Users\\Mabel\n",
      "[nltk_data]     Ifeoma\\AppData\\Roaming\\nltk_data...\n",
      "[nltk_data]   Package vader_lexicon is already up-to-date!\n",
      "[nltk_data] Downloading package punkt to C:\\Users\\Mabel\n",
      "[nltk_data]     Ifeoma\\AppData\\Roaming\\nltk_data...\n",
      "[nltk_data]   Package punkt is already up-to-date!\n",
      "[nltk_data] Downloading package stopwords to C:\\Users\\Mabel\n",
      "[nltk_data]     Ifeoma\\AppData\\Roaming\\nltk_data...\n",
      "[nltk_data]   Package stopwords is already up-to-date!\n",
      "[nltk_data] Downloading package wordnet to C:\\Users\\Mabel\n",
      "[nltk_data]     Ifeoma\\AppData\\Roaming\\nltk_data...\n",
      "[nltk_data]   Package wordnet is already up-to-date!\n"
     ]
    }
   ],
   "source": [
    "import numpy as np \n",
    "import nltk \n",
    "from nltk.corpus import opinion_lexicon\n",
    "import re\n",
    "import requests\n",
    "import pandas as pd\n",
    "import networkx as nx\n",
    "import matplotlib.pyplot as plt\n",
    "import json \n",
    "import csv \n",
    "from nltk import word_tokenize\n",
    "from nltk.corpus import stopwords \n",
    "from nltk import FreqDist \n",
    "import wordcloud \n",
    "unwanted = nltk.corpus.stopwords.words(\"english\")\n",
    "from nltk.sentiment.vader import SentimentIntensityAnalyzer\n",
    "nltk.download('vader_lexicon')\n",
    "nltk.download('punkt')\n",
    "from nltk import pos_tag\n",
    "nltk.download('stopwords')\n",
    "nltk.download('wordnet')\n",
    "from nltk.corpus import wordnet\n",
    "from nltk.stem import WordNetLemmatizer\n",
    "wordnet_lemmatizer = WordNetLemmatizer()\n",
    "from textblob import TextBlob\n"
   ]
  },
  {
   "cell_type": "code",
   "execution_count": 16,
   "metadata": {},
   "outputs": [
    {
     "name": "stdout",
     "output_type": "stream",
     "text": [
      "                            Name                      Location  \\\n",
      "0  Betty Lou's Seafood and Grill  San Francisco, CA 94133-3908   \n",
      "1              Coach House Diner     Hackensack, NJ 07601-6337   \n",
      "2               Table Talk Diner   Poughkeepsie, NY 12601-5476   \n",
      "3                    Sixty Vines          Plano, TX 75093-7777   \n",
      "4                   The Clam Bar            Syracuse, NY 13212   \n",
      "\n",
      "            Reviews                                           Comments  \n",
      "0  4.5 of 5 bubbles                                                NaN  \n",
      "1    4 of 5 bubbles  Both times we were there very late, after 11 P...  \n",
      "2    4 of 5 bubbles  Waitress was very friendly but a little pricey...  \n",
      "3  4.5 of 5 bubbles  Not sure why I went there for the second time....  \n",
      "4    4 of 5 bubbles  Doesn't look like much from the outside but wa...  \n"
     ]
    }
   ],
   "source": [
    "# Loading data and extracting the data needed\n",
    "Data = pd.read_csv(\"TripAdvisor_RestauarantRecommendation.csv\")\n",
    "\n",
    "Data = Data[[\"Name\", \"Location\",\"Reviews\",\"Comments\"]]\n",
    "# Adds the value states  \n",
    "Data['State'] = [i.split(',')[-1].split(' ')[1] for i in Data.Location]\n",
    "# Dropping Rows with empty columns \n",
    "Data = Data.dropna()\n",
    "\n",
    "\n",
    "print(Data.head())"
   ]
  },
  {
   "cell_type": "code",
   "execution_count": 22,
   "metadata": {},
   "outputs": [],
   "source": [
    "\n",
    "def tokens(raw):\n",
    "    \n",
    "    \n",
    "    words = nltk.wordpunct_tokenize(raw)\n",
    "    \n",
    "\n",
    "    nonPunct = re.compile('.*[A-Za-z].*') # must contain a letter or digit\n",
    "    filter  = [w for w in words if nonPunct.match(w)]\n",
    "    \n",
    "    words = [word.lower() for word in filter]\n",
    "            \n",
    "    \n",
    "    return words\n",
    "    \n",
    "def removal(tags):\n",
    "    # function that removes stopwords \n",
    "    pos_dict = {'J':wordnet.ADJ, 'V':wordnet.VERB, 'N':wordnet.NOUN, 'R':wordnet.ADV}\n",
    "    Pos_tag_list = []\n",
    "    for word, tag in tags:\n",
    "        if word not in unwanted:\n",
    "           Pos_tag_list.append(tuple([word, pos_dict.get(tag[0])]))\n",
    "           \n",
    "    return Pos_tag_list\n",
    "\n",
    "\n",
    "def posTag(text):\n",
    "    # and tags the words to their POS\n",
    "    tags = pos_tag(tokens(text))\n",
    "    \n",
    "    return tags \n",
    "\n",
    "def lemmanized(Pos_tagged):\n",
    "    lemma_com = \" \"\n",
    "    for word, pos in Pos_tagged:\n",
    "        if not pos:\n",
    "            lemma = word\n",
    "            lemma_com = lemma_com + \" \" + lemma\n",
    "        else:\n",
    "            lemma = wordnet_lemmatizer.lemmatize(word, pos=pos)\n",
    "            lemma_com = lemma_com + \" \" + lemma\n",
    "    return lemma_com \n",
    "\n",
    "def getSubjectivity(comment):\n",
    "    return TextBlob(comment).sentiment.subjectivity\n",
    "    # function to calculate polarity\n",
    "def getPolarity(comment):\n",
    "    return TextBlob(comment).sentiment.polarity\n",
    "\n",
    "def analysis(polarity):\n",
    "    if polarity > 0:\n",
    "        return 'Positive'\n",
    "    elif polarity == 0:\n",
    "        return 'Neutral'\n",
    "    else:\n",
    "        return 'Negative'"
   ]
  },
  {
   "cell_type": "code",
   "execution_count": 19,
   "metadata": {},
   "outputs": [],
   "source": [
    "# Does tokeninzation and removal of stopwords for each comment im the data\n",
    "\n",
    "for i, row in Data.iterrows():\n",
    "    comment = Data.at[i,'Comments']\n",
    "    Data.at[i,'Comments'] = removal(posTag(comment))\n"
   ]
  },
  {
   "cell_type": "code",
   "execution_count": 20,
   "metadata": {},
   "outputs": [
    {
     "data": {
      "text/html": [
       "<div>\n",
       "<style scoped>\n",
       "    .dataframe tbody tr th:only-of-type {\n",
       "        vertical-align: middle;\n",
       "    }\n",
       "\n",
       "    .dataframe tbody tr th {\n",
       "        vertical-align: top;\n",
       "    }\n",
       "\n",
       "    .dataframe thead th {\n",
       "        text-align: right;\n",
       "    }\n",
       "</style>\n",
       "<table border=\"1\" class=\"dataframe\">\n",
       "  <thead>\n",
       "    <tr style=\"text-align: right;\">\n",
       "      <th></th>\n",
       "      <th>Name</th>\n",
       "      <th>Location</th>\n",
       "      <th>Reviews</th>\n",
       "      <th>Comments</th>\n",
       "      <th>State</th>\n",
       "      <th>lem_comments</th>\n",
       "    </tr>\n",
       "  </thead>\n",
       "  <tbody>\n",
       "    <tr>\n",
       "      <th>1</th>\n",
       "      <td>Coach House Diner</td>\n",
       "      <td>Hackensack, NJ 07601-6337</td>\n",
       "      <td>4 of 5 bubbles</td>\n",
       "      <td>[(times, n), (late, r), (pm, n), (time, n), (m...</td>\n",
       "      <td>NJ</td>\n",
       "      <td>time late pm time many diner forget restaura...</td>\n",
       "    </tr>\n",
       "    <tr>\n",
       "      <th>2</th>\n",
       "      <td>Table Talk Diner</td>\n",
       "      <td>Poughkeepsie, NY 12601-5476</td>\n",
       "      <td>4 of 5 bubbles</td>\n",
       "      <td>[(waitress, n), (friendly, a), (little, a), (p...</td>\n",
       "      <td>NY</td>\n",
       "      <td>waitress friendly little pricey diner food d...</td>\n",
       "    </tr>\n",
       "    <tr>\n",
       "      <th>3</th>\n",
       "      <td>Sixty Vines</td>\n",
       "      <td>Plano, TX 75093-7777</td>\n",
       "      <td>4.5 of 5 bubbles</td>\n",
       "      <td>[(sure, a), (went, v), (second, a), (time, n),...</td>\n",
       "      <td>TX</td>\n",
       "      <td>sure go second time go terrible average plac...</td>\n",
       "    </tr>\n",
       "    <tr>\n",
       "      <th>4</th>\n",
       "      <td>The Clam Bar</td>\n",
       "      <td>Syracuse, NY 13212</td>\n",
       "      <td>4 of 5 bubbles</td>\n",
       "      <td>[(look, v), (like, None), (much, r), (outside,...</td>\n",
       "      <td>NY</td>\n",
       "      <td>look like much outside walk either front doo...</td>\n",
       "    </tr>\n",
       "    <tr>\n",
       "      <th>6</th>\n",
       "      <td>Black Angus Steakhouse - Federal Way</td>\n",
       "      <td>Federal Way, WA 98003-5465</td>\n",
       "      <td>4 of 5 bubbles</td>\n",
       "      <td>[(easy, a), (time, n), (place, n), (dinner, n)...</td>\n",
       "      <td>WA</td>\n",
       "      <td>easy time place dinner week night special oc...</td>\n",
       "    </tr>\n",
       "  </tbody>\n",
       "</table>\n",
       "</div>"
      ],
      "text/plain": [
       "                                   Name                     Location  \\\n",
       "1                     Coach House Diner    Hackensack, NJ 07601-6337   \n",
       "2                      Table Talk Diner  Poughkeepsie, NY 12601-5476   \n",
       "3                           Sixty Vines         Plano, TX 75093-7777   \n",
       "4                          The Clam Bar           Syracuse, NY 13212   \n",
       "6  Black Angus Steakhouse - Federal Way   Federal Way, WA 98003-5465   \n",
       "\n",
       "            Reviews                                           Comments State  \\\n",
       "1    4 of 5 bubbles  [(times, n), (late, r), (pm, n), (time, n), (m...    NJ   \n",
       "2    4 of 5 bubbles  [(waitress, n), (friendly, a), (little, a), (p...    NY   \n",
       "3  4.5 of 5 bubbles  [(sure, a), (went, v), (second, a), (time, n),...    TX   \n",
       "4    4 of 5 bubbles  [(look, v), (like, None), (much, r), (outside,...    NY   \n",
       "6    4 of 5 bubbles  [(easy, a), (time, n), (place, n), (dinner, n)...    WA   \n",
       "\n",
       "                                        lem_comments  \n",
       "1    time late pm time many diner forget restaura...  \n",
       "2    waitress friendly little pricey diner food d...  \n",
       "3    sure go second time go terrible average plac...  \n",
       "4    look like much outside walk either front doo...  \n",
       "6    easy time place dinner week night special oc...  "
      ]
     },
     "execution_count": 20,
     "metadata": {},
     "output_type": "execute_result"
    }
   ],
   "source": [
    "Data['lem_comments'] = Data['Comments'].apply(lemmanized)\n",
    "Data.head()"
   ]
  },
  {
   "cell_type": "code",
   "execution_count": 49,
   "metadata": {},
   "outputs": [],
   "source": [
    "# Make a new DataFrame with what we want to look at \n",
    "detail_data = pd.DataFrame(Data[['Name','State','lem_comments']])"
   ]
  },
  {
   "cell_type": "code",
   "execution_count": 50,
   "metadata": {},
   "outputs": [
    {
     "data": {
      "text/html": [
       "<div>\n",
       "<style scoped>\n",
       "    .dataframe tbody tr th:only-of-type {\n",
       "        vertical-align: middle;\n",
       "    }\n",
       "\n",
       "    .dataframe tbody tr th {\n",
       "        vertical-align: top;\n",
       "    }\n",
       "\n",
       "    .dataframe thead th {\n",
       "        text-align: right;\n",
       "    }\n",
       "</style>\n",
       "<table border=\"1\" class=\"dataframe\">\n",
       "  <thead>\n",
       "    <tr style=\"text-align: right;\">\n",
       "      <th></th>\n",
       "      <th>Name</th>\n",
       "      <th>State</th>\n",
       "      <th>lem_comments</th>\n",
       "      <th>Subjectivity</th>\n",
       "      <th>Polarity</th>\n",
       "      <th>Analysis</th>\n",
       "    </tr>\n",
       "  </thead>\n",
       "  <tbody>\n",
       "    <tr>\n",
       "      <th>1</th>\n",
       "      <td>Coach House Diner</td>\n",
       "      <td>NJ</td>\n",
       "      <td>time late pm time many diner forget restaura...</td>\n",
       "      <td>0.557143</td>\n",
       "      <td>0.314286</td>\n",
       "      <td>Positive</td>\n",
       "    </tr>\n",
       "    <tr>\n",
       "      <th>2</th>\n",
       "      <td>Table Talk Diner</td>\n",
       "      <td>NY</td>\n",
       "      <td>waitress friendly little pricey diner food d...</td>\n",
       "      <td>0.600000</td>\n",
       "      <td>0.357500</td>\n",
       "      <td>Positive</td>\n",
       "    </tr>\n",
       "    <tr>\n",
       "      <th>3</th>\n",
       "      <td>Sixty Vines</td>\n",
       "      <td>TX</td>\n",
       "      <td>sure go second time go terrible average plac...</td>\n",
       "      <td>0.748611</td>\n",
       "      <td>-0.318750</td>\n",
       "      <td>Negative</td>\n",
       "    </tr>\n",
       "    <tr>\n",
       "      <th>4</th>\n",
       "      <td>The Clam Bar</td>\n",
       "      <td>NY</td>\n",
       "      <td>look like much outside walk either front doo...</td>\n",
       "      <td>0.344643</td>\n",
       "      <td>0.203571</td>\n",
       "      <td>Positive</td>\n",
       "    </tr>\n",
       "    <tr>\n",
       "      <th>6</th>\n",
       "      <td>Black Angus Steakhouse - Federal Way</td>\n",
       "      <td>WA</td>\n",
       "      <td>easy time place dinner week night special oc...</td>\n",
       "      <td>0.751190</td>\n",
       "      <td>0.497619</td>\n",
       "      <td>Positive</td>\n",
       "    </tr>\n",
       "  </tbody>\n",
       "</table>\n",
       "</div>"
      ],
      "text/plain": [
       "                                   Name State  \\\n",
       "1                     Coach House Diner    NJ   \n",
       "2                      Table Talk Diner    NY   \n",
       "3                           Sixty Vines    TX   \n",
       "4                          The Clam Bar    NY   \n",
       "6  Black Angus Steakhouse - Federal Way    WA   \n",
       "\n",
       "                                        lem_comments  Subjectivity  Polarity  \\\n",
       "1    time late pm time many diner forget restaura...      0.557143  0.314286   \n",
       "2    waitress friendly little pricey diner food d...      0.600000  0.357500   \n",
       "3    sure go second time go terrible average plac...      0.748611 -0.318750   \n",
       "4    look like much outside walk either front doo...      0.344643  0.203571   \n",
       "6    easy time place dinner week night special oc...      0.751190  0.497619   \n",
       "\n",
       "   Analysis  \n",
       "1  Positive  \n",
       "2  Positive  \n",
       "3  Negative  \n",
       "4  Positive  \n",
       "6  Positive  "
      ]
     },
     "execution_count": 50,
     "metadata": {},
     "output_type": "execute_result"
    }
   ],
   "source": [
    "# Polarity – talks about how positive or negative the opinion is\n",
    "# Subjectivity – talks about how subjective the opinion is\n",
    "\n",
    "detail_data['Subjectivity'] = detail_data['lem_comments'].apply(getSubjectivity) \n",
    "detail_data['Polarity'] = detail_data['lem_comments'].apply(getPolarity) \n",
    "detail_data['Analysis'] = detail_data['Polarity'].apply(analysis)\n",
    "detail_data.head()\n"
   ]
  },
  {
   "cell_type": "code",
   "execution_count": 55,
   "metadata": {},
   "outputs": [
    {
     "name": "stdout",
     "output_type": "stream",
     "text": [
      "['', 'NJ', 'NY', 'OR', 'PA', 'TX', 'WA']\n"
     ]
    }
   ],
   "source": [
    "# Overview of all the states\n",
    "\n",
    "states = []\n",
    "for i, row in Data.iterrows():\n",
    "    #Get state\n",
    "    state = Data.at[i,'State'] \n",
    "    states.append(state)\n",
    "\n",
    "     \n",
    "states = set(states) \n",
    "states = sorted(states)  "
   ]
  },
  {
   "cell_type": "code",
   "execution_count": 58,
   "metadata": {},
   "outputs": [
    {
     "name": "stdout",
     "output_type": "stream",
     "text": [
      "You will find the resturants in the following 6 states: \n",
      " NJ New Jersey \n",
      " NY New York \n",
      " OR Oregon \n",
      " PA Pennsylvania \n",
      " TX Texas \n",
      " WA Washington\n"
     ]
    }
   ],
   "source": [
    "print(\"You will find the resturants in the following 6 states: \\n {} New Jersey \\n {} New York \\n {} Oregon \\n {} Pennsylvania \\n {} Texas \\n {} Washington\".format(states[1],states[2],states[3],states[4],states[5],states[6]))"
   ]
  },
  {
   "cell_type": "code",
   "execution_count": 110,
   "metadata": {},
   "outputs": [
    {
     "name": "stdout",
     "output_type": "stream",
     "text": [
      "2617 The Watermark Niagara Falls, Ontario L2G 3V9, \n"
     ]
    }
   ],
   "source": [
    "Top_rest_NJ = []\n",
    "Top_rest_NY = []\n",
    "Top_rest_WA = []\n",
    "Top_rest_TX = []\n",
    "Top_rest_PA = []\n",
    "Top_rest_OR = []\n",
    "\n",
    "m1= 0\n",
    "m2= 0\n",
    "m3= 0\n",
    "m4= 0\n",
    "m5= 0\n",
    "m6= 0\n",
    "count=0\n",
    "\n",
    "# sort the resturants according to their state and there polarity\n",
    "for i, row in detail_data.iterrows():\n",
    "        \n",
    "        if detail_data.at[i,'State'] == states[1]:\n",
    "                t = (i,detail_data.at[i,'Name'],round(detail_data.at[i,'Polarity'],3),round(detail_data.at[i,'Subjectivity'],3))\n",
    "                Top_rest_NJ.append(t)\n",
    "                 \n",
    "                                     \n",
    "        elif detail_data.at[i,'State'] == states[2]:\n",
    "        \n",
    "                t = (i,detail_data.at[i,'Name'],round(detail_data.at[i,'Polarity'],3),round(detail_data.at[i,'Subjectivity'],3))\n",
    "                Top_rest_NY.append(t)\n",
    "                        \n",
    "        elif detail_data.at[i,'State'] == states[3]:\n",
    "                \n",
    "                t = (i,detail_data.at[i,'Name'],round(detail_data.at[i,'Polarity'],3),round(detail_data.at[i,'Subjectivity'],3))\n",
    "                Top_rest_OR.append(t)\n",
    "                        \n",
    "        elif detail_data.at[i,'State'] == states[4]:\n",
    "                \n",
    "                t = (i,detail_data.at[i,'Name'],round(detail_data.at[i,'Polarity'],3),round(detail_data.at[i,'Subjectivity'],3))\n",
    "                Top_rest_PA.append(t)\n",
    "                        \n",
    "        elif detail_data.at[i,'State'] == states[5]:\n",
    "        \n",
    "                t = (i,detail_data.at[i,'Name'],round(detail_data.at[i,'Polarity'],3),round(detail_data.at[i,'Subjectivity'],3))\n",
    "                Top_rest_TX.append(t)\n",
    "                        \n",
    "        elif detail_data.at[i,'State'] == states[6]:\n",
    "                t = (i,detail_data.at[i,'Name'],round(detail_data.at[i,'Polarity'],3),round(detail_data.at[i,'Subjectivity'],3))\n",
    "                Top_rest_WA.append(t)\n",
    "                        \n",
    "        else:\n",
    "                print(i,Data.at[i,'Name'],Data.at[i,'Location'])\n",
    "\n",
    "\n",
    "\n",
    "\n",
    "Top_rest_NJ = sorted(Top_rest_NJ, key=lambda tup: tup[2],reverse=True) \n",
    "Top_rest_NY = sorted(Top_rest_NY, key=lambda tup: tup[2],reverse=True) \n",
    "Top_rest_OR = sorted(Top_rest_OR, key=lambda tup: tup[2],reverse=True) \n",
    "Top_rest_TX = sorted(Top_rest_TX, key=lambda tup: tup[2],reverse=True) \n",
    "Top_rest_PA = sorted(Top_rest_PA, key=lambda tup: tup[2],reverse=True) \n",
    "Top_rest_WA = sorted(Top_rest_WA, key=lambda tup: tup[2],reverse=True)\n",
    "                \n",
    "                \n"
   ]
  },
  {
   "cell_type": "code",
   "execution_count": 122,
   "metadata": {},
   "outputs": [],
   "source": [
    "\n",
    "# We interpret the polarity measure as the indication of how good the resturant is and we construct a new frame for each state that presents\n",
    "# the 10 best restuarants and their polarity and subjectivity score. \n",
    "\n",
    "Top_WA = pd.DataFrame(Top_rest_WA[0:10], columns=['Index','Restuarant','Love-score','Subjectivity-score'])\n",
    "Top_NY = pd.DataFrame(Top_rest_NY[0:10], columns=['Index','Restuarant','Love-score','Subjectivity-score'])\n",
    "Top_NJ = pd.DataFrame(Top_rest_NJ[0:10], columns=['Index','Restuarant','Love-score','Subjectivity-score'])\n",
    "Top_OR = pd.DataFrame(Top_rest_OR[0:10], columns=['Index','Restuarant','Love-score','Subjectivity-score'])\n",
    "Top_PA = pd.DataFrame(Top_rest_PA[0:10], columns=['Index','Restuarant','Love-score','Subjectivity-score'])\n",
    "Top_TX = pd.DataFrame(Top_rest_TX[0:10], columns=['Index','Restuarant','Love-score','Subjectivity-score'])\n",
    "\n"
   ]
  },
  {
   "cell_type": "code",
   "execution_count": 123,
   "metadata": {},
   "outputs": [
    {
     "name": "stdout",
     "output_type": "stream",
     "text": [
      "   Index                     Restuarant  Love-score  Subjectivity-score\n",
      "0   1105  Salty's On The Columbia River       0.612               0.708\n",
      "1    129                    Island Cafe       0.521               0.697\n"
     ]
    }
   ],
   "source": [
    "print(Top_OR)\n"
   ]
  },
  {
   "cell_type": "code",
   "execution_count": 124,
   "metadata": {},
   "outputs": [
    {
     "name": "stdout",
     "output_type": "stream",
     "text": [
      "   Index                          Restuarant  Love-score  Subjectivity-score\n",
      "0    839                    Carlucci's Grill       0.700               0.733\n",
      "1   1888                      Non Solo Pasta       0.540               0.737\n",
      "2   2438                        Cafe Antonio       0.250               0.483\n",
      "3   1855                 Canal Street Grille       0.237               0.550\n",
      "4   1924                         Yardley Inn       0.200               0.300\n",
      "5    823  La Villa Pizza & Family Restaurant       0.180               0.467\n",
      "6    408                   Vault Brewing Co.       0.167               0.389\n",
      "7   2672                   Salute Ristorante       0.000               0.083\n",
      "8    670                        Comfort Food      -0.114               0.286\n"
     ]
    }
   ],
   "source": [
    "print(Top_PA)"
   ]
  },
  {
   "cell_type": "code",
   "execution_count": 125,
   "metadata": {},
   "outputs": [
    {
     "name": "stdout",
     "output_type": "stream",
     "text": [
      "   Index                         Restuarant  Love-score  Subjectivity-score\n",
      "0   1966           Spanish Olive Restaurant       0.933               0.917\n",
      "1   3047                       Chick's Deli       0.900               0.525\n",
      "2   1056         Aarzu Modern Indian Bistro       0.867               0.762\n",
      "3    427                          Hamburgao       0.850               0.800\n",
      "4   1874                     Bonefish Grill       0.833               0.783\n",
      "5   1246                Don Pepe Restaurant       0.800               0.733\n",
      "6   2230                       Cafe Matisse       0.767               0.850\n",
      "7   2513  Baladina Mediterranean Restaurant       0.767               0.917\n",
      "8    536                   Portugal Express       0.750               0.800\n",
      "9    557                    Sophie's Bistro       0.750               0.875\n"
     ]
    }
   ],
   "source": [
    "print(Top_NJ)"
   ]
  },
  {
   "cell_type": "code",
   "execution_count": 126,
   "metadata": {},
   "outputs": [
    {
     "name": "stdout",
     "output_type": "stream",
     "text": [
      "   Index                      Restuarant  Love-score  Subjectivity-score\n",
      "0      9          John Thomas Steakhouse       1.000               1.000\n",
      "1    404                          Chef's       1.000               0.300\n",
      "2    455     Top of The Falls Restaurant       1.000               1.000\n",
      "3    578  Delmonico's Italian Steakhouse       1.000               0.300\n",
      "4    718  Lorenzo's Restaurant & Cabaret       1.000               0.300\n",
      "5   1276   Ceci Italian Restaurant & Bar       1.000               1.000\n",
      "6   2119         Martha's Country Bakery       1.000               1.000\n",
      "7   1799                        Johnny's       0.933               0.683\n",
      "8   2425       The Bistro at La Tourelle       0.900               0.875\n",
      "9    434                  The Marketside       0.860               0.950\n"
     ]
    }
   ],
   "source": [
    "print(Top_NY)"
   ]
  },
  {
   "cell_type": "code",
   "execution_count": 127,
   "metadata": {},
   "outputs": [
    {
     "name": "stdout",
     "output_type": "stream",
     "text": [
      "   Index                        Restuarant  Love-score  Subjectivity-score\n",
      "0    335                        Dough Zone       1.000               0.300\n",
      "1    879            WildFin American Grill       1.000               1.000\n",
      "2   1038   Elmer's Restaurant - Mill Plain       1.000               1.000\n",
      "3   1134          5th Avenue Sandwich Shop       1.000               0.300\n",
      "4   2919  Black Angus Steakhouse - Spokane       1.000               1.000\n",
      "5   1590                     Old Town Cafe       0.933               0.917\n",
      "6   2569      Charlies Restaurant & Lounge       0.933               0.917\n",
      "7   2696                   8oz Burger & Co       0.900               0.875\n",
      "8    462      Carousel Restaurant & Bistro       0.850               0.900\n",
      "9   2782               Assaggio Ristorante       0.850               0.800\n"
     ]
    }
   ],
   "source": [
    "print(Top_WA)"
   ]
  },
  {
   "cell_type": "code",
   "execution_count": 128,
   "metadata": {},
   "outputs": [
    {
     "name": "stdout",
     "output_type": "stream",
     "text": [
      "   Index                      Restuarant  Love-score  Subjectivity-score\n",
      "0    260                            Uchi       1.000               1.000\n",
      "1    543         Eddie V's Prime Seafood       1.000               1.000\n",
      "2    888                    Capistrano's       1.000               1.000\n",
      "3   1097                      Rodeo Goat       1.000               0.650\n",
      "4   1677        Fish N' Tails Oyster Bar       1.000               1.000\n",
      "5   2346                      Rodeo Goat       1.000               0.650\n",
      "6   2361                  State Of Grace       1.000               1.000\n",
      "7   1138  La Fiesta Restaurant & Cantina       0.933               0.683\n",
      "8   1701            Cosmos Bar and Grill       0.933               0.917\n",
      "9   2687        Calico County Restaurant       0.933               0.917\n"
     ]
    }
   ],
   "source": [
    "print(Top_TX)"
   ]
  }
 ],
 "metadata": {
  "kernelspec": {
   "display_name": "Python 3.7.8 64-bit",
   "language": "python",
   "name": "python3"
  },
  "language_info": {
   "codemirror_mode": {
    "name": "ipython",
    "version": 3
   },
   "file_extension": ".py",
   "mimetype": "text/x-python",
   "name": "python",
   "nbconvert_exporter": "python",
   "pygments_lexer": "ipython3",
   "version": "3.7.8"
  },
  "orig_nbformat": 4,
  "vscode": {
   "interpreter": {
    "hash": "0a54084e6b208ee8d1ce3989ffc20924477a5f55f5a43e22e699a6741623861e"
   }
  }
 },
 "nbformat": 4,
 "nbformat_minor": 2
}
